{
 "cells": [
  {
   "cell_type": "code",
   "execution_count": null,
   "id": "17947cea",
   "metadata": {},
   "outputs": [],
   "source": [
    "def printBoard(xState, zState):\n",
    "    zero = 'X' if xState[0] else ('O' if yState[0] else 0)\n",
    "    one = 'X' if xState[1] else ('O' if yState[1] else 1)\n",
    "    two = 'X' if xState[2] else ('O' if yState[2] else 2)\n",
    "    three = 'X' if xState[3] else ('O' if yState[3] else 3)\n",
    "    four = 'X' if xState[4] else ('O' if yState[4] else 4)\n",
    "    five = 'X' if xState[5] else ('O' if yState[5] else 5)\n",
    "    six = 'X' if xState[6] else ('O' if yState[6] else 6)\n",
    "    seven = 'X' if xState[7] else ('O' if yState[7] else 7)\n",
    "    eight = 'X' if xState[8] else ('O' if yState[8] else 8)\n",
    "    print(f\"{zero} | {one} | {two} \")\n",
    "    print(f\"--|---|---\")\n",
    "    print(f\"{three} | {four} | {five} \")\n",
    "    print(f\"--|---|---\")\n",
    "    print(f\"{six} | {seven} | {eight} \") \n",
    "    \n",
    "def checkWin(xState, yState):\n",
    "    wins = [[0, 1, 2], [3, 4, 5], [6, 7, 8], [0, 3, 6], [1, 4, 7], [2, 5, 8], [0, 4, 8], [2, 4, 6]]\n",
    "    for win in wins:\n",
    "        if(sum(xState[win[0]], xState[win[1]], xState[win[2]]) == 3):\n",
    "            print(\"X Won the match\")\n",
    "            return 1\n",
    "        if(sum(yState[win[0]], yState[win[1]], yState[win[2]]) == 3):\n",
    "            print(\"O won the match\")\n",
    "            return 0\n",
    "    return -1\n",
    "        "
   ]
  },
  {
   "cell_type": "code",
   "execution_count": null,
   "id": "74b3f74d",
   "metadata": {},
   "outputs": [],
   "source": [
    "if __name__ == \"__main__\":\n",
    "    xState = [0, 0, 0, 0, 0, 0, 0, 0, 0]\n",
    "    yState = [0, 0, 0, 0, 0, 0, 0, 0, 0]\n",
    "    turn = 1 # 1 for X and 0 for O\n",
    "    print(\"Welcome to Tic Tac Toe\")\n",
    "    while(True):\n",
    "        printBoard(xState, yState)\n",
    "        if(turn == 1):\n",
    "            print(\"X's Chance\")\n",
    "            value = int(input(\"Please enter a value: \"))\n",
    "            xState[value] = 1\n",
    "        else:\n",
    "            print(\"O's Chance\")\n",
    "            value = int(input(\"Please enter a value: \"))\n",
    "            yState[value] = 1\n",
    "        cwin = checkWin(xState, yState)\n",
    "        if(cwin != -1):\n",
    "            print(\"Match over\")\n",
    "            break\n",
    "        \n",
    "        turn = 1 - turn"
   ]
  },
  {
   "cell_type": "code",
   "execution_count": null,
   "id": "cdbcc003",
   "metadata": {},
   "outputs": [],
   "source": []
  }
 ],
 "metadata": {
  "kernelspec": {
   "display_name": "Python 3 (ipykernel)",
   "language": "python",
   "name": "python3"
  },
  "language_info": {
   "codemirror_mode": {
    "name": "ipython",
    "version": 3
   },
   "file_extension": ".py",
   "mimetype": "text/x-python",
   "name": "python",
   "nbconvert_exporter": "python",
   "pygments_lexer": "ipython3",
   "version": "3.9.12"
  }
 },
 "nbformat": 4,
 "nbformat_minor": 5
}
